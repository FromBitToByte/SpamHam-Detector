{
 "cells": [
  {
   "cell_type": "code",
   "execution_count": 1,
   "id": "35e9b99c",
   "metadata": {},
   "outputs": [],
   "source": [
    "import pandas as pd\n",
    "import nltk\n",
    "import re\n",
    "from nltk.corpus import stopwords\n",
    "from nltk.stem import PorterStemmer\n",
    "from nltk.stem import WordNetLemmatizer\n",
    "from sklearn.feature_extraction.text import CountVectorizer\n",
    "from sklearn.model_selection import train_test_split\n",
    "from sklearn.naive_bayes import MultinomialNB\n",
    "from sklearn.metrics import confusion_matrix\n",
    "from sklearn.metrics import classification_report\n"
   ]
  },
  {
   "cell_type": "code",
   "execution_count": 2,
   "id": "d02fc239",
   "metadata": {},
   "outputs": [],
   "source": [
    "def read_file(file_name):\n",
    "    messages = pd.read_csv(file_name, sep='\\t', names=['label', 'message'])\n",
    "    return messages\n"
   ]
  },
  {
   "cell_type": "code",
   "execution_count": 3,
   "id": "1c5ced22",
   "metadata": {},
   "outputs": [],
   "source": [
    "def pre_process(messages):\n",
    "    ps = PorterStemmer()\n",
    "    lem = WordNetLemmatizer()\n",
    "    sw = stopwords.words('english')\n",
    "\n",
    "    # list of strings( messages )\n",
    "    corpus = []\n",
    "\n",
    "    for i in range(len(messages)):\n",
    "        # cleaning the message\n",
    "        curr_message = messages['message'][i].lower()\n",
    "        curr_message = re.sub('[^a-zA-Z]', ' ', curr_message)\n",
    "        words = curr_message.split(' ')\n",
    "\n",
    "        # removing stopwords\n",
    "        words = [word for word in words if (word not in sw)]\n",
    "\n",
    "        # lemmitization / stemming\n",
    "        # words = [lem.lemmatize(word) for word in words]\n",
    "        words = [ps.stem(word) for word in words]\n",
    "\n",
    "        final_message = ' '.join(words)\n",
    "        corpus.append(final_message)\n",
    "\n",
    "    return corpus"
   ]
  },
  {
   "cell_type": "code",
   "execution_count": 4,
   "id": "85632cf9",
   "metadata": {},
   "outputs": [],
   "source": [
    "def create_bag_of_words(corpus, messages):\n",
    "    cv = CountVectorizer(max_features=5000)\n",
    "    x = cv.fit_transform(corpus).toarray()\n",
    "\n",
    "    y = pd.get_dummies(messages['label'])\n",
    "    y = y.iloc[:, 1].values\n",
    "\n",
    "    return (x, y)"
   ]
  },
  {
   "cell_type": "code",
   "execution_count": 5,
   "id": "8a06b968",
   "metadata": {},
   "outputs": [],
   "source": [
    "def train_model(x_train, x_test, y_train, y_test):\n",
    "    mnb = MultinomialNB()\n",
    "    final_model = mnb.fit( x_train, y_train )\n",
    "    return final_model"
   ]
  },
  {
   "cell_type": "code",
   "execution_count": 6,
   "id": "d871581d",
   "metadata": {},
   "outputs": [],
   "source": [
    "def main():\n",
    "    file_name = 'data'\n",
    "    messages = read_file(file_name)\n",
    "    corpus = pre_process(messages)\n",
    "    x, y = create_bag_of_words(corpus, messages)\n",
    "    x_train, x_test, y_train, y_test = train_test_split(x, y, test_size=0.20, random_state=0 )\n",
    "    final_model = train_model(x_train, x_test, y_train, y_test)\n",
    "    pred =  final_model.predict( x_test )\n",
    "    cm = confusion_matrix( y_test, pred )\n",
    "    print( cm )\n",
    "    print( classification_report( y_test, pred))"
   ]
  },
  {
   "cell_type": "code",
   "execution_count": 7,
   "id": "a6bd9ae3",
   "metadata": {},
   "outputs": [
    {
     "name": "stdout",
     "output_type": "stream",
     "text": [
      "[[946   9]\n",
      " [  8 152]]\n",
      "              precision    recall  f1-score   support\n",
      "\n",
      "           0       0.99      0.99      0.99       955\n",
      "           1       0.94      0.95      0.95       160\n",
      "\n",
      "    accuracy                           0.98      1115\n",
      "   macro avg       0.97      0.97      0.97      1115\n",
      "weighted avg       0.98      0.98      0.98      1115\n",
      "\n"
     ]
    }
   ],
   "source": [
    "main()"
   ]
  },
  {
   "cell_type": "code",
   "execution_count": null,
   "id": "51d42efe",
   "metadata": {},
   "outputs": [],
   "source": []
  }
 ],
 "metadata": {
  "kernelspec": {
   "display_name": "Python 3",
   "language": "python",
   "name": "python3"
  },
  "language_info": {
   "codemirror_mode": {
    "name": "ipython",
    "version": 3
   },
   "file_extension": ".py",
   "mimetype": "text/x-python",
   "name": "python",
   "nbconvert_exporter": "python",
   "pygments_lexer": "ipython3",
   "version": "3.8.1"
  }
 },
 "nbformat": 4,
 "nbformat_minor": 5
}
